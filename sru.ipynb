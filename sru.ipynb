{
 "cells": [
  {
   "cell_type": "code",
   "execution_count": 71,
   "metadata": {},
   "outputs": [],
   "source": [
    "import torch\n",
    "import torch.nn as nn\n",
    "import torch.optim as optim\n",
    "class SRUCell(nn.Module):\n",
    "    def __init__(self, input_size, hidden_size):\n",
    "        super(SRUCell, self).__init__()\n",
    "        self.hidden_size = hidden_size\n",
    "        # Initialize weight matrices\n",
    "        self.W = nn.Parameter(torch.Tensor(input_size, hidden_size))\n",
    "        self.W_prime = nn.Parameter(torch.Tensor(input_size, hidden_size))\n",
    "        self.W_double_prime = nn.Parameter(torch.Tensor(input_size, hidden_size))\n",
    "        # Initialize bias vectors\n",
    "        self.b = nn.Parameter(torch.Tensor(hidden_size))\n",
    "        self.b_prime = nn.Parameter(torch.Tensor(hidden_size))\n",
    "        # Initialize parameter vectors for the gates\n",
    "        self.v = nn.Parameter(torch.Tensor(hidden_size))\n",
    "        self.v_prime = nn.Parameter(torch.Tensor(hidden_size))\n",
    "\n",
    "        self.reset_parameters()\n",
    "\n",
    "    def reset_parameters(self):\n",
    "        # Properly initialize the parameters, typically with a small standard deviation for weights\n",
    "        nn.init.normal_(self.W, 0, 0.1)\n",
    "        nn.init.normal_(self.W_prime, 0, 0.1)\n",
    "        nn.init.normal_(self.W_double_prime, 0, 0.1)\n",
    "        nn.init.normal_(self.v, 0, 0.1)\n",
    "        nn.init.normal_(self.v_prime, 0, 0.1)\n",
    "        nn.init.constant_(self.b, 0)\n",
    "        nn.init.constant_(self.b_prime, 0)\n",
    "\n",
    "    def forward(self, x, c_previous=None):\n",
    "        if c_previous is None:\n",
    "            c_previous = torch.zeros(x.size(0), self.hidden_size, device=x.device)\n",
    "        # Compute the forget and reset gates\n",
    "        f_t = torch.sigmoid(x @ self.W + self.v * c_previous + self.b)\n",
    "        r_t = torch.sigmoid(x @ self.W_prime + self.v_prime * c_previous + self.b_prime)\n",
    "        # Compute the new cell state\n",
    "        c_t = f_t * c_previous + (1 - f_t) * (x @ self.W_double_prime)\n",
    "        # Compute the new hidden state\n",
    "        h_t = r_t * c_t + (1 - r_t) * x\n",
    "        return h_t, c_t"
   ]
  },
  {
   "cell_type": "code",
   "execution_count": 72,
   "metadata": {},
   "outputs": [],
   "source": [
    "# Corrected SRU network class that includes hidden_size as an attribute\n",
    "class SRU(nn.Module):\n",
    "    def __init__(self, input_size, hidden_size, output_size):\n",
    "        super(SRU, self).__init__()\n",
    "        self.hidden_size = hidden_size\n",
    "        self.sru_cell = SRUCell(input_size, hidden_size)\n",
    "        self.linear = nn.Linear(hidden_size, output_size)\n",
    "\n",
    "    def forward(self, x):\n",
    "        c_t = torch.zeros(x.size(0), self.hidden_size, device=x.device)\n",
    "        outputs = []\n",
    "        for i in range(x.size(1)):\n",
    "            h_t, c_t = self.sru_cell(x[:, i], c_t)\n",
    "            outputs.append(h_t)\n",
    "        out = self.linear(outputs[-1])\n",
    "        return out\n",
    "\n",
    "def create_dataset(n):\n",
    "    x = torch.arange(1., n+1).view(-1, 1) # Creates a 2D tensor with values from 1 to n\n",
    "    y = torch.arange(2., n+2).view(-1, 1) # Creates a 2D tensor with values from 2 to n+1\n",
    "    return x, y\n",
    "\n"
   ]
  },
  {
   "cell_type": "code",
   "execution_count": 73,
   "metadata": {},
   "outputs": [],
   "source": [
    "# Model instantiation\n",
    "input_size = 1\n",
    "hidden_size = 50\n",
    "output_size = 1\n",
    "model = SRU(input_size, hidden_size, output_size)\n",
    "criterion = nn.MSELoss()\n",
    "optimizer = optim.Adam(model.parameters())\n",
    "\n",
    "# Create dataset for a simple counting task\n",
    "x_train, y_train = create_dataset(100)"
   ]
  },
  {
   "cell_type": "code",
   "execution_count": 74,
   "metadata": {},
   "outputs": [
    {
     "name": "stdout",
     "output_type": "stream",
     "text": [
      "Epoch 0, Loss: 141.85227966308594\n",
      "Epoch 100, Loss: 0.44399428367614746\n",
      "Epoch 200, Loss: 0.10344808548688889\n",
      "Epoch 300, Loss: 0.047301020473241806\n",
      "Epoch 400, Loss: 0.026141751557588577\n",
      "Epoch 500, Loss: 0.017730966210365295\n",
      "Epoch 600, Loss: 0.014206832274794579\n",
      "Epoch 700, Loss: 0.012348949909210205\n",
      "Epoch 800, Loss: 0.011044936254620552\n",
      "Epoch 900, Loss: 0.009982094168663025\n",
      "Epoch 1000, Loss: 0.009069297462701797\n",
      "Epoch 1100, Loss: 0.008265282027423382\n",
      "Epoch 1200, Loss: 0.0075443340465426445\n",
      "Epoch 1300, Loss: 0.006890471559017897\n",
      "Epoch 1400, Loss: 0.006295027211308479\n",
      "Epoch 1500, Loss: 0.005753648933023214\n",
      "Epoch 1600, Loss: 0.005264329258352518\n",
      "Epoch 1700, Loss: 0.004825145471841097\n",
      "Epoch 1800, Loss: 0.004433753434568644\n",
      "Epoch 1900, Loss: 0.004086928442120552\n",
      "Epoch 2000, Loss: 0.003780721453949809\n",
      "Epoch 2100, Loss: 0.0035107627045363188\n",
      "Epoch 2200, Loss: 0.003272715490311384\n",
      "Epoch 2300, Loss: 0.0030623087659478188\n",
      "Epoch 2400, Loss: 0.002875684294849634\n",
      "Epoch 2500, Loss: 0.0027093281969428062\n",
      "Epoch 2600, Loss: 0.0025602171663194895\n",
      "Epoch 2700, Loss: 0.002425747225061059\n",
      "Epoch 2800, Loss: 0.0023036394268274307\n",
      "Epoch 2900, Loss: 0.0021920122671872377\n",
      "Epoch 3000, Loss: 0.0020892841275781393\n",
      "Epoch 3100, Loss: 0.001994142774492502\n",
      "Epoch 3200, Loss: 0.0019054773729294538\n",
      "Epoch 3300, Loss: 0.0018223916413262486\n",
      "Epoch 3400, Loss: 0.0017441264353692532\n",
      "Epoch 3500, Loss: 0.001670082681812346\n",
      "Epoch 3600, Loss: 0.0015997497830539942\n",
      "Epoch 3700, Loss: 0.0015327137662097812\n",
      "Epoch 3800, Loss: 0.0014686131617054343\n",
      "Epoch 3900, Loss: 0.001407129573635757\n",
      "Epoch 4000, Loss: 0.0013480253983289003\n",
      "Epoch 4100, Loss: 0.0012910482473671436\n",
      "Epoch 4200, Loss: 0.0012359976535663009\n",
      "Epoch 4300, Loss: 0.001182696083560586\n",
      "Epoch 4400, Loss: 0.0011309669353067875\n",
      "Epoch 4500, Loss: 0.001080697518773377\n",
      "Epoch 4600, Loss: 0.0010317678097635508\n",
      "Epoch 4700, Loss: 0.0009841056307777762\n",
      "Epoch 4800, Loss: 0.0009376241359859705\n",
      "Epoch 4900, Loss: 0.000892321637365967\n"
     ]
    }
   ],
   "source": [
    "# Training loop\n",
    "epochs = 5000\n",
    "for epoch in range(epochs):\n",
    "    model.train()\n",
    "    optimizer.zero_grad()\n",
    "    output = model(x_train.unsqueeze(1))\n",
    "    loss = criterion(output, y_train)\n",
    "    loss.backward()\n",
    "    optimizer.step()\n",
    "    if epoch % 100 == 0:\n",
    "        print(f'Epoch {epoch}, Loss: {loss.item()}')"
   ]
  },
  {
   "cell_type": "code",
   "execution_count": 75,
   "metadata": {},
   "outputs": [
    {
     "data": {
      "text/plain": [
       "102.01143646240234"
      ]
     },
     "execution_count": 75,
     "metadata": {},
     "output_type": "execute_result"
    }
   ],
   "source": [
    "model.eval()\n",
    "test_input = torch.tensor([[101.0]])\n",
    "predicted_output = model(test_input.unsqueeze(1))\n",
    "predicted_output.item()  # This should be close to 102 if the model has learned correctly"
   ]
  }
 ],
 "metadata": {
  "kernelspec": {
   "display_name": "tf_metal",
   "language": "python",
   "name": "python3"
  },
  "language_info": {
   "codemirror_mode": {
    "name": "ipython",
    "version": 3
   },
   "file_extension": ".py",
   "mimetype": "text/x-python",
   "name": "python",
   "nbconvert_exporter": "python",
   "pygments_lexer": "ipython3",
   "version": "3.8.18"
  }
 },
 "nbformat": 4,
 "nbformat_minor": 2
}
